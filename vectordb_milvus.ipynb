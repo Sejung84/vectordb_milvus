{
 "cells": [
  {
   "cell_type": "code",
   "execution_count": null,
   "metadata": {},
   "outputs": [],
   "source": [
    "!pip install milvus\n",
    "!pip install pymilvus\n",
    "!pip3 install faiss-gpu\n",
    "!pip install torchvision\n",
    "!pip install timm"
   ]
  },
  {
   "cell_type": "code",
   "execution_count": null,
   "metadata": {},
   "outputs": [],
   "source": [
    "import torch\n",
    "import csv\n",
    "from glob import glob\n",
    "from pathlib import Path\n",
    "from statistics import mean\n",
    "\n",
    "from towhee import pipe, ops, DataCollection\n",
    "from pymilvus import connections, FieldSchema, CollectionSchema, DataType, Collection, utility"
   ]
  },
  {
   "cell_type": "code",
   "execution_count": null,
   "metadata": {},
   "outputs": [],
   "source": [
    "MODEL = 'resnet50'\n",
    "\n",
    "DEVICE = torch.device('cpu')\n",
    "\n",
    "\n",
    "HOST = 'localhost'\n",
    "PORT = '19530'\n",
    "TOPK = 10\n",
    "DIM = 2048\n",
    "COLLECTION_NAME = 'reverse_image_search'\n",
    "INDEX_TYPE = 'IVF_FLAT'\n",
    "METRIC_TYPE = 'L2'\n",
    "\n",
    "classes = ['bareland', 'commercial', 'playground', 'mountain', 'desert', 'river', 'pond', 'sparseresidential', 'parking', 'railwaystation', 'resort', 'baseballfield', 'denseresidential', 'center', 'viaduct', 'mediumresidential', 'meadow', 'forest', 'beach', 'bridge', 'church', 'park', 'stadium', 'storagetanks', 'port', 'airport', 'industrial', 'square', 'school', 'farmland']\n",
    "IMAGE_POOLS = []\n",
    "\n",
    "for c in classes:\n",
    "    class_lists = glob(f'/Users/siasejung/Desktop/milvus_image/{c}*.jpg')\n",
    "    IMAGE_POOLS.extend(class_lists)\n",
    "p_embed = (\n",
    "    pipe.input('src')\n",
    "        .flat_map('src', 'img_path', lambda _: IMAGE_POOLS)\n",
    "        .map('img_path', 'img', ops.image_decode())\n",
    "        .map('img', 'vec', ops.image_embedding.timm(model_name=MODEL, device=DEVICE))\n",
    ")\n",
    "p_display = p_embed.output('img_path', 'img', 'vec')\n",
    "DataCollection(p_display('/Users/siasejung/Desktop/milvus_image/*.jpg')).show()"
   ]
  },
  {
   "cell_type": "code",
   "execution_count": null,
   "metadata": {},
   "outputs": [],
   "source": [
    "def create_milvus_collection(collection_name, dim):\n",
    "    if utility.has_collection(collection_name):\n",
    "        utility.drop_collection(collection_name)\n",
    "    \n",
    "    fields = [\n",
    "        FieldSchema(name='path', dtype=DataType.VARCHAR, description='path to image', max_length=500, \n",
    "                    is_primary=True, auto_id=False),\n",
    "        FieldSchema(name='embedding', dtype=DataType.FLOAT_VECTOR, description='image embedding vectors', dim=dim)\n",
    "    ]\n",
    "    schema = CollectionSchema(fields=fields, description='reverse image search')\n",
    "    collection = Collection(name=collection_name, schema=schema)\n",
    "\n",
    "    index_params = {\n",
    "        'metric_type': METRIC_TYPE,\n",
    "        'index_type': INDEX_TYPE,\n",
    "        'params': {\"nlist\": 2048}\n",
    "    }\n",
    "    collection.create_index(field_name='embedding', index_params=index_params)\n",
    "    return collection"
   ]
  },
  {
   "cell_type": "code",
   "execution_count": null,
   "metadata": {},
   "outputs": [],
   "source": [
    "connections.connect(host=HOST, port=PORT)\n",
    "collection = create_milvus_collection(COLLECTION_NAME, DIM)\n",
    "p_insert = (\n",
    "        p_embed.map(('img_path', 'vec'), 'mr', ops.ann_insert.milvus_client(\n",
    "                    host=HOST,\n",
    "                    port=PORT,\n",
    "                    collection_name=COLLECTION_NAME\n",
    "                    ))\n",
    "          .output('mr')\n",
    ")\n",
    "for i in IMAGE_POOLS:\n",
    "    p_insert(i)\n",
    "print('Number of data inserted:', collection.num_entities)"
   ]
  }
 ],
 "metadata": {
  "language_info": {
   "name": "python"
  },
  "orig_nbformat": 4
 },
 "nbformat": 4,
 "nbformat_minor": 2
}
